{
  "nbformat": 4,
  "nbformat_minor": 0,
  "metadata": {
    "colab": {
      "provenance": [],
      "collapsed_sections": [
        "VGzoszAsWKCW"
      ],
      "authorship_tag": "ABX9TyOSLkB7AaIUg+K/l5pk8207",
      "include_colab_link": true
    },
    "kernelspec": {
      "name": "python3",
      "display_name": "Python 3"
    },
    "language_info": {
      "name": "python"
    }
  },
  "cells": [
    {
      "cell_type": "markdown",
      "metadata": {
        "id": "view-in-github",
        "colab_type": "text"
      },
      "source": [
        "<a href=\"https://colab.research.google.com/github/Bayzid03/OpenAI-Agent-SDK/blob/main/Agent_SDK.ipynb\" target=\"_parent\"><img src=\"https://colab.research.google.com/assets/colab-badge.svg\" alt=\"Open In Colab\"/></a>"
      ]
    },
    {
      "cell_type": "markdown",
      "source": [
        "# **OPENAI AGENT SDK**"
      ],
      "metadata": {
        "id": "1G49eo8DXO5M"
      }
    },
    {
      "cell_type": "markdown",
      "source": [
        "**AI Agents:** AI agents are systems that perform tasks autonomously by interacting with their environment. They take in information, process it, and act to reach a goal.\n",
        "\n",
        "**OpenAI Agent SDK is an improved version of 'Swarm'**\n",
        "\n",
        "**Agents SDK** is an open-source toolkit that streamlines agent workflows, efficiently managing both single agent and multiagent systems.\n",
        "\n",
        "**Features:**\n",
        "* Configurable AI Agents\n",
        "* MultiAgent Orchestration\n",
        "* Conversation Tracking\n",
        "* Safety and Compliance\n",
        "* Performance Monitoring"
      ],
      "metadata": {
        "id": "73-pqkXnboyS"
      }
    },
    {
      "cell_type": "markdown",
      "source": [
        "OpenAI Agent SDK Demo Project"
      ],
      "metadata": {
        "id": "mivCCFXoVkJ8"
      }
    },
    {
      "cell_type": "code",
      "execution_count": null,
      "metadata": {
        "id": "gZyuX2HWVaM3"
      },
      "outputs": [],
      "source": [
        "import os, asyncio\n",
        "os.environ[\"OPENAI_API_KEY\"] = \"\""
      ]
    },
    {
      "cell_type": "code",
      "source": [
        "!pip install openai-agents -q"
      ],
      "metadata": {
        "id": "3vCoiWXKWHsS"
      },
      "execution_count": null,
      "outputs": []
    },
    {
      "cell_type": "code",
      "source": [
        "from agents import Agent, Runner"
      ],
      "metadata": {
        "id": "zRvRulArW79e"
      },
      "execution_count": null,
      "outputs": []
    },
    {
      "cell_type": "code",
      "source": [
        "from agents import Agent\n",
        "\n",
        "car_advisor = Agent(\n",
        "    name=\"Car Advisor\",\n",
        "    instructions=\"\"\"\n",
        "You are a helpful and knowledgeable AI assistant specializing in cars. Your primary goal is to provide users with accurate and insightful information about various aspects of automobiles.\n",
        "\n",
        "Your instructions are as follows:\n",
        "\n",
        "1.  **Understand the User's Query:** Carefully read and understand the user's question or request about cars. Identify the core topic and the specific information the user is seeking.\n",
        "2.  **Provide Relevant Information:** Based on the user's query, access and synthesize your knowledge base to provide relevant information. This can include:\n",
        "    *   Car makes, models, and types (sedans, SUVs, trucks, etc.)\n",
        "    *   Vehicle specifications (engine size, fuel efficiency, features, safety ratings, etc.)\n",
        "    *   Comparisons between different vehicles\n",
        "    *   Advice on buying or selling cars\n",
        "    *   Information about car maintenance and repairs\n",
        "    *   Details about car technology and trends\n",
        "    *   Answers to general car-related questions\n",
        "3.  **Be Informative and Detailed:** Provide comprehensive answers that address the user's query thoroughly. Include relevant details and explanations to enhance understanding.\n",
        "4.  **Be Objective and Unbiased:** Present information objectively and avoid expressing personal opinions or biases about specific car brands or models.\n",
        "5.  **Maintain a Helpful and Friendly Tone:** Interact with users in a polite and helpful manner. Use clear and concise language.\n",
        "6.  **Handle Ambiguity:** If the user's query is unclear or ambiguous, ask clarifying questions to ensure you understand their needs.\n",
        "7.  **Stay within the Domain of Cars:** Limit your responses to topics directly related to cars. If a user asks about something outside your expertise, politely state that you can only assist with car-related inquiries.\n",
        "8.  **Provide disclaimers:** If you are providing information that should not be taken as professional advice (e.g., maintenance tips), include a disclaimer.\n",
        "9.  **Summarize when appropriate:** For complex queries, summarize the key points of your response to make it easier for the user to digest.\n",
        "\n",
        "By following these instructions, you will be able to effectively assist users with their car-related questions and provide a valuable resource for car enthusiasts and buyers.\n",
        "\"\"\",\n",
        "    model=\"gpt-4o\"\n",
        ")"
      ],
      "metadata": {
        "id": "1VUp1P9lXRsh"
      },
      "execution_count": null,
      "outputs": []
    },
    {
      "cell_type": "code",
      "source": [
        "prompt = \"What are the benefits of owning an electric car?\"\n",
        "async def main():\n",
        "  result = await Runner.run(car_advisor, prompt)\n",
        "  print(result)\n",
        "\n",
        "await main()"
      ],
      "metadata": {
        "id": "Ep_EsB6iX6JB"
      },
      "execution_count": null,
      "outputs": []
    },
    {
      "cell_type": "markdown",
      "source": [
        "**Hosted Tools:** These are pre-built tools provided by the OpenAI that run on their Server. We don't have to code anything extra, we can just use them directly, like a **Web Search Tool**."
      ],
      "metadata": {
        "id": "8szu20WqSxUM"
      }
    },
    {
      "cell_type": "code",
      "source": [
        "!pip install python-dotenv"
      ],
      "metadata": {
        "id": "uK9xenL1VxP1"
      },
      "execution_count": null,
      "outputs": []
    },
    {
      "cell_type": "code",
      "source": [
        "from agents import Agent, Runner, WebSearchTool\n",
        "from dotenv import load_dotenv\n",
        "\n",
        "load_dotenv()\n",
        "\n",
        "research_assistant = Agent(\n",
        "    name=\"Research Assistant\",\n",
        "    instructions=\"Search the web for up-to-date information and summarize findings.\",\n",
        "    tools=[WebSearchTool()]\n",
        ")\n",
        "\n",
        "query = \"What are the latest developments in artificial intelligence?\"\n",
        "result = await Runner.run(research_assistant, f\"Find information about: {query}\")\n",
        "print(result.final_output)\n"
      ],
      "metadata": {
        "id": "faKhq0fnUAft"
      },
      "execution_count": null,
      "outputs": []
    },
    {
      "cell_type": "markdown",
      "source": [
        "**Function Tools:** These are own custom functions that the AI can call when needed."
      ],
      "metadata": {
        "id": "VGzoszAsWKCW"
      }
    },
    {
      "cell_type": "code",
      "source": [
        "import os\n",
        "import requests\n",
        "from agents import Agent, Runner, function_tool\n",
        "from dotenv import load_dotenv\n",
        "\n",
        "load_dotenv()\n",
        "\n",
        "@function_tool\n",
        "def get_weather(city: str) -> str:\n",
        "    \"\"\"Fetch the current weather for a specified city.\"\"\"\n",
        "    API_KEY = os.getenv(\"OPENWEATHERMAP_API_KEY\")\n",
        "    url = f\"http://api.openweathermap.org/data/2.5/weather?q={city}&appid={API_KEY}&units=metric\"\n",
        "    response = requests.get(url)\n",
        "\n",
        "    if response.status_code == 200:\n",
        "        data = response.json()\n",
        "        return f\"Weather in {city}: {data['weather'][0]['description']}, Temp: {data['main']['temp']}°C\"\n",
        "    return \"Failed to fetch weather data.\"\n",
        "\n",
        "# Create an agent with the custom tool\n",
        "weather_assistant = Agent(\n",
        "    name=\"Weather Assistant\",\n",
        "    instructions=\"Provide real-time weather information using the 'get_weather' function tool.\",\n",
        "    tools=[get_weather]\n",
        ")\n",
        "\n",
        "result = await Runner.run(weather_assistant, \"What's the weather like in Tokyo?\")\n",
        "print(result.final_output)\n"
      ],
      "metadata": {
        "id": "NtzkkzhMWqkK"
      },
      "execution_count": null,
      "outputs": []
    }
  ]
}